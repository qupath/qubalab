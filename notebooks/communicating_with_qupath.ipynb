{
 "cells": [
  {
   "cell_type": "markdown",
   "id": "3f127a68-2171-4488-874a-8af32c20a0e2",
   "metadata": {},
   "source": [
    "# Communicating with QuPath\n",
    "\n",
    "This notebook will show how to exchange information between QuPath and Python.\n",
    "\n",
    "A few classes and functions of the QuBaLab package will be presented throughout this notebook. For more details, you can go to the documentation on https://qupath.github.io/qubalab/ and type a class/function name in the search bar. You will then see details on the parameters that functions take.\n",
    "\n",
    "The [**QuPath Py4J Extension**](https://github.com/qupath/qupath-extension-py4j) is a QuPath extension that helps bring the QuPath and QuBaLab worlds much closer together, thanks to [Py4J](https://www.py4j.org). To begin, you'll need to open QuPath and make sure that this extension is installed. You can install the extension using the QuPath extension manager. Alternatively, you can install the extension by dragging a jar file onto QuPath's main viewer, and then allowing QuPath to copy the jar to its extensions folder. \n",
    "\n",
    "If that works, you should see a new Python icon in QuPath's toolbar, and also a command *Extensions &rarr; Py4J &rarr; Start Py4J Gateway*.\n",
    "\n",
    "Both the toolbar button and menu command do the same thing - so click on either to open a *gateway* from QuPath to Python. You can use the default port and define a token if you want.\n",
    "\n",
    "> For more info, see the [Py4J documentation](https://www.py4j.org)\n",
    "> For more details about Py4J and security, see [this FAQ page](https://www.py4j.org/faq.html#are-there-any-security-concerns-with-py4j)."
   ]
  },
  {
   "cell_type": "markdown",
   "id": "7a884c12-a431-4881-80c1-fb232162757b",
   "metadata": {},
   "source": [
    "## Creating the gateway\n",
    "\n",
    "The following code will create a gateway from Python. It assumes that QuPath is launched and a gateway is started from here.\n",
    "\n",
    "If no error is thrown, it means the connection is established."
   ]
  },
  {
   "cell_type": "code",
   "execution_count": null,
   "id": "8580426a-cc91-4fc4-a7a6-361416105f03",
   "metadata": {},
   "outputs": [],
   "source": [
    "from qubalab.qupath import qupath_gateway\n",
    "\n",
    "token = None   # change the value of this variable if you provided a token while creating the QuPath gateway\n",
    "port = 25333   # change the value of this variable if you provided a different port while creating the QuPath gateway\n",
    "gateway = qupath_gateway.create_gateway(auth_token=token, port=port)\n",
    "\n",
    "print(\"Gateway created\")"
   ]
  },
  {
   "cell_type": "markdown",
   "id": "d85fdd6f-9af4-4113-9efe-b5a64274d2cd",
   "metadata": {},
   "source": [
    "## Communicating with the entry point\n",
    "\n",
    "You can communicate with QuPath through `gateway.entry_point`.\n",
    "\n",
    "This object represents the `QuPathEntryPoint` Java class. If you look at the [source code of this class](https://github.com/qupath/qupath-extension-py4j/blob/main/src/main/java/qupath/ext/py4j/core/QuPathEntryPoint.java), you'll see that it has a few public functions. Let's try the `getExtensionVersion()` function:"
   ]
  },
  {
   "cell_type": "code",
   "execution_count": null,
   "id": "c1bf2cb8-9bc7-4453-844d-e9f2c018bf1b",
   "metadata": {},
   "outputs": [],
   "source": [
    "print(f\"Extension version: {gateway.entry_point.getExtensionVersion()}\")"
   ]
  },
  {
   "cell_type": "markdown",
   "id": "7119aa89-d119-4f26-b8b1-e2a90aeb9278",
   "metadata": {},
   "source": [
    "The `QuPathEntryPoint` class extends the `qupath.lib.gui.scripting.QPEx` class, which extends the `qupath.lib.scripting.QP` class. This means that all functions of the `QPEx` and `QP` classes are also available through the entry point.\n",
    "\n",
    "The availables functions are listed:\n",
    "* [In the QPEx class documentation](https://qupath.github.io/javadoc/docs/qupath/lib/gui/scripting/QPEx.html).\n",
    "* [In the QP class documentation](https://qupath.github.io/javadoc/docs/qupath/lib/scripting/QP.html).\n",
    "\n",
    "Let try the `QP.getCurrentImageName()` function:"
   ]
  },
  {
   "cell_type": "code",
   "execution_count": null,
   "id": "7ccb8509-a193-4365-94dd-02de4a1333c7",
   "metadata": {},
   "outputs": [],
   "source": [
    "print(f\"Current image name: {gateway.entry_point.getCurrentImageName()}\")"
   ]
  },
  {
   "cell_type": "markdown",
   "id": "f81ac575-7440-4581-bbe7-54b0cc984ff2",
   "metadata": {},
   "source": [
    "When a function of the entry point returns a custom object, a Python `JavaObject` is returned. This object contains all fields and functions of the corresponding Java object. For example:"
   ]
  },
  {
   "cell_type": "code",
   "execution_count": null,
   "id": "b5512ef3-63f6-4b19-95bd-2dcfa56faec1",
   "metadata": {},
   "outputs": [],
   "source": [
    "qupath_GUI = gateway.entry_point.getQuPath()  # qupath_GUI represents a QuPathGUI Java object\n",
    "\n",
    "print(f\"Type of qupath_GUI: {type(qupath_GUI)}\")    # qupath_GUI is a JavaObject \n",
    "\n",
    "# The documentation of a QuPathGUI Java object can be found here:\n",
    "# https://qupath.github.io/javadoc/docs/qupath/lib/gui/QuPathGUI.html\n",
    "# For example, we can call the imageData property and the getVersion() function:\n",
    "print(f\"Image data: {qupath_GUI.imageData}\")\n",
    "print(f\"Version: {qupath_GUI.getVersion()}\")"
   ]
  },
  {
   "cell_type": "markdown",
   "id": "ffc37a9c-0367-4753-b7eb-5322dfefdd1f",
   "metadata": {},
   "source": [
    "## Communicating with `qupath_gateway`\n",
    "\n",
    "The `qubalab.qupath.qupath_gateway` also provides a set of functions that are easier to use than the entry point. For example, let's show a screenshot of the current QuPath interface:"
   ]
  },
  {
   "cell_type": "code",
   "execution_count": null,
   "id": "a950d10d-f21e-4024-beac-8d90d5264927",
   "metadata": {},
   "outputs": [],
   "source": [
    "import matplotlib.pyplot as plt\n",
    "\n",
    "plt.imshow(qupath_gateway.create_snapshot())\n",
    "plt.axis(False)\n",
    "plt.show()"
   ]
  },
  {
   "cell_type": "markdown",
   "id": "b79a7fa5-5fad-4817-8e01-287064f2cf48",
   "metadata": {},
   "source": [
    "**In general:**\n",
    "\n",
    "- Try to use one of the functions of `qubalab.qupath.qupath_gateway`.\n",
    "- If no function exists for your use case, use `gateway.entry_point`."
   ]
  },
  {
   "cell_type": "markdown",
   "id": "0e40dc5d-958e-4887-b5dd-bb4572d53066",
   "metadata": {},
   "source": [
    "## Accessing an `ImageServer`\n",
    "\n",
    "This section will show how to access the metadata and pixel values in Python of an image opened in QuPath. It assumes that an **image is currently opened in QuPath**.\n",
    "\n",
    "You can access the QuPath image with the `QuPathServer` qubalab class. This class is an implementation of the qubalab `ImageServer` which is described in the *opening_images.ipynb* notebook, so it is recommended that you go through this notebook first."
   ]
  },
  {
   "cell_type": "code",
   "execution_count": null,
   "id": "ad59dd72-6790-4a6a-97ad-82dccc3c7837",
   "metadata": {},
   "outputs": [],
   "source": [
    "from qubalab.images.qupath_server import QuPathServer\n",
    "\n",
    "server = QuPathServer(gateway)"
   ]
  },
  {
   "cell_type": "markdown",
   "id": "4d42083f-4abd-4ae3-958f-a973f7d1c8f1",
   "metadata": {},
   "source": [
    "`server` is an `ImageServer`, so all functions described in *opening_images.ipynb* are also available here:"
   ]
  },
  {
   "cell_type": "code",
   "execution_count": null,
   "id": "62899540-b41b-440a-9d1a-ba4658ea9226",
   "metadata": {},
   "outputs": [],
   "source": [
    "# Access image metadata\n",
    "\n",
    "metadata = server.metadata\n",
    "\n",
    "print(f'Image path: {metadata.path}')\n",
    "print(f'Image name: {metadata.name}')\n",
    "print()\n",
    "\n",
    "print('Levels:')\n",
    "for level, shape in enumerate(metadata.shapes):\n",
    "    print(f'Shape of level {level}: {shape}')\n",
    "print()\n",
    "\n",
    "print('Pixel calibration:')\n",
    "print(f'Pixel length on x-axis: {metadata.pixel_calibration.length_x}')\n",
    "print(f'Pixel length on y-axis: {metadata.pixel_calibration.length_y}')\n",
    "print()\n",
    "\n",
    "print(f'Pixel type: {metadata.dtype}')\n",
    "print()\n",
    "\n",
    "print(f'Downsamples: {metadata.downsamples}')\n",
    "print()\n",
    "\n",
    "print('Channels:')\n",
    "for channel in metadata.channels:\n",
    "    print(channel)"
   ]
  },
  {
   "cell_type": "code",
   "execution_count": null,
   "id": "99157b98-d2d6-4615-b2d9-68ca465cb369",
   "metadata": {},
   "outputs": [],
   "source": [
    "# Read and show lowest resolution image with read_region\n",
    "\n",
    "highest_downsample = server.metadata.downsamples[-1]\n",
    "lowest_resolution = server.read_region(highest_downsample)\n",
    "\n",
    "print(f'Image shape: {lowest_resolution.shape}')\n",
    "\n",
    "# This calls a utility function from qubalab to plot the image\n",
    "# If the image is RGB, all channels will be displayed. Otherwise, only the first channel will be displayed\n",
    "from qubalab.display.plot import plotImage\n",
    "_, ax = plt.subplots(figsize=(10, 8))\n",
    "plotImage(ax, lowest_resolution)        "
   ]
  },
  {
   "cell_type": "code",
   "execution_count": null,
   "id": "083c6675-1fde-4b40-b1f3-efc47e9262ac",
   "metadata": {},
   "outputs": [],
   "source": [
    "# Read and show lowest resolution image with level_to_dask\n",
    "\n",
    "last_level = server.metadata.n_resolutions - 1\n",
    "lowest_resolution = server.level_to_dask(last_level)\n",
    "\n",
    "# Pixel values are not read yet, but you can get the shape of the image\n",
    "print(f'Image shape: {lowest_resolution.shape}')\n",
    "\n",
    "# Compute array. This will read the pixel values\n",
    "lowest_resolution = lowest_resolution.compute()\n",
    "\n",
    "_, ax = plt.subplots(figsize=(10, 8))\n",
    "plotImage(ax, lowest_resolution)"
   ]
  }
 ],
 "metadata": {
  "kernelspec": {
   "display_name": "Python 3 (ipykernel)",
   "language": "python",
   "name": "python3"
  },
  "language_info": {
   "codemirror_mode": {
    "name": "ipython",
    "version": 3
   },
   "file_extension": ".py",
   "mimetype": "text/x-python",
   "name": "python",
   "nbconvert_exporter": "python",
   "pygments_lexer": "ipython3",
   "version": "3.12.6"
  }
 },
 "nbformat": 4,
 "nbformat_minor": 5
}
